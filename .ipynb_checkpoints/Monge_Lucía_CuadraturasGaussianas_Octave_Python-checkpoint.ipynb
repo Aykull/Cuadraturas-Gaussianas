{
 "cells": [
  {
   "cell_type": "markdown",
   "metadata": {
    "kernel": "SoS"
   },
   "source": [
    "# Cuadraturas Gaussianas\n",
    "## María Lucía Monge Golcher\n",
    "### 2017147709\n",
    "Esta es un técnica que nos ayuda a encontrar la mejor aproximación del área bajo una línea, eliminando la restricción de los puntos fijos, es posible escoger dichos puntos de forma conveniente, definiendo con estos una línea recta es posible equilibrar los errores negativo y positivo, lo que nos ayudaría encontrar una mejor estimación de la integral.\n",
    "## Formulación  matemática, con valores iniciales\n",
    "La cuadratura selecciona puntos de evaluación a través de un polinomio denominado Polinomio Legengre en $[-1,1]$, en caso de necesitar otro intervalo es posible y se debe realizar el cambio de variable por medio de la funcion $g(x)=(\\frac{b-a}{2})f(\\frac{(b-a)x+(b+a)}{2})$ para que el método funcione igual. \n",
    "\n",
    "Para poder aproximar la integral de una función $f(x)$ en $[-1,1]$ después de realizada la función $g(x)$ se inicia calculando el polinomio de Legendre $ P_{n}(x) = \\frac{1}{(n!2^{n})} \\frac{d^{n}}{d x^{n}} [(x^{2}-1)^{n}]$ y con este se obtienen los ceros de la función $x_{i}$ y se calcula la derivada de grado $n$ del polinomio de Legendre.\n",
    "\n",
    "Con esta derivada se calcula $w_{i}=\\frac{2}{(1-x_{i}^{2})P'_{n}(x_{i})}$ y se aproxima la integral de forma\n",
    "\n",
    "\\begin{equation}\n",
    "y = \\int_{x=-1}^{x=1} f(x) \\cdot dx =w_{1}f(x_{1})+w_{2}f(x_{2})+...+w_{i}f(x_{i})=\\sum_{i=1}^{n}w_{i}f(x_{i})\n",
    "\\end{equation}\n",
    "\n",
    "\n",
    "### Valores iniciales\n",
    "Los valores iniciales para este método son la función $f(x)$, el orden deseado $n$, y el intervalo $[a,b]$.\n",
    "\n",
    "\n",
    "## Ventajas y desventajas\n",
    "\n",
    "### Ventajas\n",
    "* Los valores dentro del intervalo de integración permiten obtener una mejor función lineal que aproxima de manera eficiente el área debajo de la curva de la función.\n",
    "* Cuando se conoce la función, es muy eficiente, en particular cuadno se deben realizar muchas evaluaciones de la integral.\n",
    "\n",
    "### Desventajas\n",
    "* Las Cuadraturas de Gauss no son apropiadas para los casos donde la función no se conoce ya que es necesario evaluar en esta puntos irregularmente espaciados. \n",
    "\n",
    "\n",
    "## Diagrama de flujo de los pasos del algoritmo\n",
    "![alt text](Catálogo.jpg \"pseudocodigo\")\n",
    "\n",
    "\n",
    "## Código del algoritmo (GNU Octave, Python, C++) implementado como una función\n"
   ]
  },
  {
   "cell_type": "code",
   "execution_count": 50,
   "metadata": {
    "kernel": "Octave"
   },
   "outputs": [
    {
     "ename": "RuntimeError",
     "evalue": "Failed to start kernel \"Octave\". Kernel didn't respond in 30 seconds\nError Message:\n[MetaKernelApp] ERROR | Exception in message handler:\r\nTraceback (most recent call last):\r\n  File \"C:\\Users\\lucia\\anaconda3\\lib\\site-packages\\ipykernel\\kernelbase.py\", line 268, in dispatch_shell\r\n    yield gen.maybe_future(handler(stream, idents, msg))\r\n  File \"C:\\Users\\lucia\\anaconda3\\lib\\site-packages\\ipykernel\\kernelbase.py\", line 658, in kernel_info_request\r\n    content.update(self.kernel_info)\r\n  File \"C:\\Users\\lucia\\anaconda3\\lib\\site-packages\\ipykernel\\kernelbase.py\", line 651, in kernel_info\r\n    'language_info': self.language_info,\r\n  File \"C:\\Users\\lucia\\anaconda3\\lib\\site-packages\\octave_kernel\\kernel.py\", line 78, in language_info\r\n    'version': self.language_version,\r\n  File \"C:\\Users\\lucia\\anaconda3\\lib\\site-packages\\octave_kernel\\kernel.py\", line 69, in language_version\r\n    ver = self.octave_engine.eval('version', silent=True)\r\n  File \"C:\\Users\\lucia\\anaconda3\\lib\\site-packages\\octave_kernel\\kernel.py\", line 90, in octave_engine\r\n    self._octave_engine = OctaveEngine(plot_settings=self.plot_settings,\r\n  File \"C:\\Users\\lucia\\anaconda3\\lib\\site-packages\\octave_kernel\\kernel.py\", line 170, in __init__\r\n    self.executable = self._get_executable()\r\n  File \"C:\\Users\\lucia\\anaconda3\\lib\\site-packages\\octave_kernel\\kernel.py\", line 460, in _get_executable\r\n    raise OSError('octave-cli not found, please see README')\r\nOSError: octave-cli not found, please see README\r\n",
     "output_type": "error",
     "traceback": [
      "\u001b[91mFailed to start kernel \"Octave\". Kernel didn't respond in 30 seconds\nError Message:\n[MetaKernelApp] ERROR | Exception in message handler:\r\nTraceback (most recent call last):\r\n  File \"C:\\Users\\lucia\\anaconda3\\lib\\site-packages\\ipykernel\\kernelbase.py\", line 268, in dispatch_shell\r\n    yield gen.maybe_future(handler(stream, idents, msg))\r\n  File \"C:\\Users\\lucia\\anaconda3\\lib\\site-packages\\ipykernel\\kernelbase.py\", line 658, in kernel_info_request\r\n    content.update(self.kernel_info)\r\n  File \"C:\\Users\\lucia\\anaconda3\\lib\\site-packages\\ipykernel\\kernelbase.py\", line 651, in kernel_info\r\n    'language_info': self.language_info,\r\n  File \"C:\\Users\\lucia\\anaconda3\\lib\\site-packages\\octave_kernel\\kernel.py\", line 78, in language_info\r\n    'version': self.language_version,\r\n  File \"C:\\Users\\lucia\\anaconda3\\lib\\site-packages\\octave_kernel\\kernel.py\", line 69, in language_version\r\n    ver = self.octave_engine.eval('version', silent=True)\r\n  File \"C:\\Users\\lucia\\anaconda3\\lib\\site-packages\\octave_kernel\\kernel.py\", line 90, in octave_engine\r\n    self._octave_engine = OctaveEngine(plot_settings=self.plot_settings,\r\n  File \"C:\\Users\\lucia\\anaconda3\\lib\\site-packages\\octave_kernel\\kernel.py\", line 170, in __init__\r\n    self.executable = self._get_executable()\r\n  File \"C:\\Users\\lucia\\anaconda3\\lib\\site-packages\\octave_kernel\\kernel.py\", line 460, in _get_executable\r\n    raise OSError('octave-cli not found, please see README')\r\nOSError: octave-cli not found, please see README\r\n\u001b[0m"
     ]
    }
   ],
   "source": [
    "\n",
    "\n",
    "\n"
   ]
  },
  {
   "cell_type": "code",
   "execution_count": 12,
   "metadata": {
    "kernel": "Python 3"
   },
   "outputs": [
    {
     "ename": "NameError",
     "evalue": "name 'x' is not defined",
     "output_type": "error",
     "traceback": [
      "\u001b[1;31m---------------------------------------------------------------------------\u001b[0m",
      "\u001b[1;31mNameError\u001b[0m                                 Traceback (most recent call last)",
      "\u001b[1;32m<ipython-input-12-77e150afbd14>\u001b[0m in \u001b[0;36m<module>\u001b[1;34m\u001b[0m\n\u001b[0;32m    112\u001b[0m     \u001b[1;32mreturn\u001b[0m \u001b[0mresultado\u001b[0m\u001b[1;33m\u001b[0m\u001b[1;33m\u001b[0m\u001b[0m\n\u001b[0;32m    113\u001b[0m \u001b[1;33m\u001b[0m\u001b[0m\n\u001b[1;32m--> 114\u001b[1;33m \u001b[0mcuad_gauss\u001b[0m\u001b[1;33m(\u001b[0m\u001b[1;34m'x**3+1'\u001b[0m\u001b[1;33m,\u001b[0m\u001b[1;36m3\u001b[0m\u001b[1;33m,\u001b[0m\u001b[1;36m5\u001b[0m\u001b[1;33m,\u001b[0m\u001b[1;36m2\u001b[0m\u001b[1;33m)\u001b[0m\u001b[1;33m\u001b[0m\u001b[1;33m\u001b[0m\u001b[0m\n\u001b[0m",
      "\u001b[1;32m<ipython-input-12-77e150afbd14>\u001b[0m in \u001b[0;36mcuad_gauss\u001b[1;34m(f, n, a, b)\u001b[0m\n\u001b[0;32m     34\u001b[0m         \u001b[0mg\u001b[0m\u001b[1;33m=\u001b[0m\u001b[1;33m(\u001b[0m\u001b[1;33m(\u001b[0m\u001b[0mb\u001b[0m\u001b[1;33m-\u001b[0m\u001b[0ma\u001b[0m\u001b[1;33m)\u001b[0m\u001b[1;33m/\u001b[0m\u001b[1;36m2\u001b[0m\u001b[1;33m)\u001b[0m\u001b[1;33m\u001b[0m\u001b[1;33m\u001b[0m\u001b[0m\n\u001b[0;32m     35\u001b[0m         \u001b[0mfunc\u001b[0m\u001b[1;33m=\u001b[0m\u001b[0mfuncion\u001b[0m\u001b[1;33m(\u001b[0m\u001b[1;33m(\u001b[0m\u001b[1;33m(\u001b[0m\u001b[1;33m(\u001b[0m\u001b[0mb\u001b[0m\u001b[1;33m-\u001b[0m\u001b[0ma\u001b[0m\u001b[1;33m)\u001b[0m\u001b[1;33m*\u001b[0m\u001b[0mx\u001b[0m\u001b[1;33m)\u001b[0m\u001b[1;33m+\u001b[0m\u001b[1;33m(\u001b[0m\u001b[0mb\u001b[0m\u001b[1;33m+\u001b[0m\u001b[0ma\u001b[0m\u001b[1;33m)\u001b[0m\u001b[1;33m)\u001b[0m\u001b[1;33m/\u001b[0m\u001b[1;36m2\u001b[0m\u001b[1;33m)\u001b[0m\u001b[1;33m\u001b[0m\u001b[1;33m\u001b[0m\u001b[0m\n\u001b[1;32m---> 36\u001b[1;33m         \u001b[1;32mreturn\u001b[0m \u001b[0mcuad_gauss_prin\u001b[0m\u001b[1;33m(\u001b[0m\u001b[0mg\u001b[0m\u001b[1;33m*\u001b[0m\u001b[0mfunc\u001b[0m\u001b[1;33m,\u001b[0m\u001b[0mn\u001b[0m\u001b[1;33m)\u001b[0m\u001b[1;33m\u001b[0m\u001b[1;33m\u001b[0m\u001b[0m\n\u001b[0m\u001b[0;32m     37\u001b[0m \u001b[1;33m\u001b[0m\u001b[0m\n\u001b[0;32m     38\u001b[0m \u001b[1;33m\u001b[0m\u001b[0m\n",
      "\u001b[1;32m<ipython-input-12-77e150afbd14>\u001b[0m in \u001b[0;36mcuad_gauss_prin\u001b[1;34m(f, n)\u001b[0m\n\u001b[0;32m     68\u001b[0m     '''\n\u001b[0;32m     69\u001b[0m     \u001b[1;31m#Se calcula el polinomio de Legendre de grado n\u001b[0m\u001b[1;33m\u001b[0m\u001b[1;33m\u001b[0m\u001b[1;33m\u001b[0m\u001b[0m\n\u001b[1;32m---> 70\u001b[1;33m     \u001b[0mpol\u001b[0m \u001b[1;33m=\u001b[0m \u001b[1;33m(\u001b[0m\u001b[1;36m1\u001b[0m \u001b[1;33m/\u001b[0m\u001b[1;33m(\u001b[0m\u001b[0mfactorial\u001b[0m\u001b[1;33m(\u001b[0m\u001b[0mn\u001b[0m\u001b[1;33m)\u001b[0m\u001b[1;33m*\u001b[0m\u001b[1;33m(\u001b[0m\u001b[1;36m2\u001b[0m\u001b[1;33m**\u001b[0m\u001b[0mn\u001b[0m\u001b[1;33m)\u001b[0m\u001b[1;33m)\u001b[0m\u001b[1;33m)\u001b[0m\u001b[1;33m*\u001b[0m\u001b[1;33m(\u001b[0m\u001b[0mdiff\u001b[0m\u001b[1;33m(\u001b[0m\u001b[1;33m(\u001b[0m\u001b[1;33m(\u001b[0m\u001b[1;33m(\u001b[0m\u001b[0mx\u001b[0m\u001b[1;33m**\u001b[0m\u001b[1;36m2\u001b[0m\u001b[1;33m)\u001b[0m\u001b[1;33m-\u001b[0m\u001b[1;36m1\u001b[0m\u001b[1;33m)\u001b[0m\u001b[1;33m**\u001b[0m\u001b[0mn\u001b[0m\u001b[1;33m)\u001b[0m\u001b[1;33m,\u001b[0m\u001b[0mx\u001b[0m\u001b[1;33m,\u001b[0m\u001b[0mn\u001b[0m\u001b[1;33m)\u001b[0m\u001b[1;33m)\u001b[0m\u001b[1;33m\u001b[0m\u001b[1;33m\u001b[0m\u001b[0m\n\u001b[0m\u001b[0;32m     71\u001b[0m     \u001b[1;31m#Se calculan los ceros del polinomio de Legendre\u001b[0m\u001b[1;33m\u001b[0m\u001b[1;33m\u001b[0m\u001b[1;33m\u001b[0m\u001b[0m\n\u001b[0;32m     72\u001b[0m     \u001b[0msolpol\u001b[0m \u001b[1;33m=\u001b[0m \u001b[0msolve\u001b[0m\u001b[1;33m(\u001b[0m\u001b[0mpol\u001b[0m\u001b[1;33m,\u001b[0m\u001b[0mx\u001b[0m\u001b[1;33m)\u001b[0m\u001b[1;33m\u001b[0m\u001b[1;33m\u001b[0m\u001b[0m\n",
      "\u001b[1;31mNameError\u001b[0m: name 'x' is not defined"
     ]
    }
   ],
   "source": [
    "#Se importa el paquete simbólico\n",
    "from sympy import *\n",
    "\n",
    "'''\n",
    "Se implementa la técnica de Cuadraturas Gaussianas, en esta función se hace el cambio de variable de\n",
    "la función g con el intervalo deseado para que la función este dentro del intervalo [-1,1].\n",
    "\n",
    "Valores iniciales\n",
    "\n",
    "@param string de la función: f\n",
    "@param int representa el orden de la función: n\n",
    "@param int primer valor del intervalo: a\n",
    "@param int segundo valor del intervalo: b\n",
    "\n",
    "Valores de salida\n",
    "\n",
    "@return la función principal con los siguientes parámetros\n",
    "@return string de la función: g\n",
    "@return int representa el orden de la función: n\n",
    "'''\n",
    "def cuad_gauss(f,n,a,b):\n",
    "    if a==-1 and b==1:\n",
    "        #No se realiza la operación de cambio de variable ya que esta en el \n",
    "        #intervalo adecuado\n",
    "        return cuad_gauss_prin(f,n)\n",
    "    else:\n",
    "        #De esta forma se convierten la funciónes a notación simbólica\n",
    "        fun = sympify(f)\n",
    "        #De esta forma se obtiene la variable en notación simbólica\n",
    "        x = sympify('x')\n",
    "        #Comando para evaluar la función\n",
    "        funcion = lambdify(x,fun)\n",
    "        #Se realiza el cambio de variable para adecuar el intervalo\n",
    "        g=((b-a)/2)\n",
    "        func=funcion((((b-a)*x)+(b+a))/2)\n",
    "        return cuad_gauss_prin(g*func,n)\n",
    "    \n",
    "    \n",
    "    \n",
    "'''\n",
    "Esta función nos ayuda a encontrar la mejor aproximación del área bajo una línea, \n",
    "eliminando la restricción de los puntos fijos.\n",
    "\n",
    "Valores iniciales\n",
    "\n",
    "@param string de la función: f\n",
    "@param int representa el orden de la función: n\n",
    "\n",
    "Valores de salida\n",
    "\n",
    "@return la función auxiliar con los siguientes parámetros\n",
    "@return string de la función: f\n",
    "@return ceros del polinomio de Legendre: x_i\n",
    "@return valores de w_i\n",
    "@return int representa el orden de la función: n\n",
    "'''\n",
    "\n",
    "\n",
    "def cuad_gauss_prin(f,n):\n",
    "\n",
    "    ''' \n",
    "    #De esta forma se convierten la funciónes a notación simbólica\n",
    "    fun = sympify(f)\n",
    "    #Comando para evaluar la función\n",
    "    funcion = lambdify(x,fun)\n",
    "    '''\n",
    "    #De esta forma se obtiene la variable en notación simbólica\n",
    "    x = sympify('x')\n",
    "    #Se calcula el polinomio de Legendre de grado n\n",
    "    pol = (1 /(factorial(n)*(2**n)))*(diff((((x**2)-1)**n),x,n))\n",
    "    #Se calculan los ceros del polinomio de Legendre\n",
    "    solpol = solve(pol,x)  \n",
    "    #Se calcula la derivada del polinomio de Legendre\n",
    "    der = diff(pol,x)\n",
    "    #Índice para encontrar la cantidad de w_i necesarias\n",
    "    i=0\n",
    "    #Arreglo para guardar los valores de w_i\n",
    "    wi=[]\n",
    "    #Comando para evaluar la función\n",
    "    derivada = lambdify(x,der)\n",
    "    #Bucle donde se evaluan w_i\n",
    "    while(i<n):\n",
    "        w=2/((1-(solpol[i]**2))*(derivada(solpol[i])))\n",
    "        wi.append(w)\n",
    "        i+=1\n",
    "    #Se retona la ecuación auxiliar para hacer la aproximación de la integral\n",
    "    return cuad_gauss_aux(f,solpol,wi,n)\n",
    "\n",
    "\n",
    "'''\n",
    "Función para aproximar la integral\n",
    "\n",
    "Valores iniciales\n",
    "\n",
    "@param string de la función: f\n",
    "@param ceros del polinomio de Legendre: x_i\n",
    "@param valores de w_i\n",
    "@param int representa el orden de la función: n\n",
    "\n",
    "Valores de salida\n",
    "\n",
    "@return el valor de la integral aproximado\n",
    "'''\n",
    "\n",
    "def cuad_gauss_aux(f,xi,wi,n):\n",
    "    resultado=0\n",
    "    i=0\n",
    "    while(i<n):\n",
    "        mul=wi[i]*f(xi[i])\n",
    "        resultado=resultado+mul\n",
    "        i+=1\n",
    "    return resultado\n",
    "\n",
    "cuad_gauss('x**3+1',3,5,2)"
   ]
  },
  {
   "cell_type": "markdown",
   "metadata": {
    "kernel": "Python 3"
   },
   "source": [
    "## Ejemplo numérico aplicado a la ingeniería, explicado con todos los detalles pertinentes para entenderlo. \n",
    "### Aplicación de la cuadradura de Gauss al problema del paracaidista en caída\n",
    "Se tiene la velocidad del paracaidista en terminos del tiempo \n",
    "![alt text](velocidad.png \"v\")\n",
    "donde v=velocidad(m/s), g=constante gravitacional de 9.8m/s^2, m=masa del paracaidista igual a 68.1 kg y el coeficiente de arrastre de 12.5 kg/s.\n",
    "\n",
    "\n",
    "El modelo predice la velocidad del paracaidista como una función del tiempo. El problema describe, un paracaidista con una masa m salta de un globo aerostático fijo. Se calcula la velocidad antes de que se abra el paracaídas. Considere que el coeficiente de resistencia.\n",
    "\n",
    "\n",
    "Después de modificar la función, se obtienen los siguientes resultados:\n",
    "\n",
    "\n",
    "* Estimación con dos puntos = 290.0145\n",
    "* Estimación con tres puntos = 289.4393\n",
    "* Estimación con cuatro puntos = 289.4352\n",
    "* Estimación con cinco puntos = 289.4351 \n",
    "* Estimación con seis puntos = 289.4351\n",
    "\n",
    "Así, las estimaciones con cinco y seis puntos dan resultados que son exactos hasta la séptima cifra significativa."
   ]
  }
 ],
 "metadata": {
  "kernelspec": {
   "display_name": "SoS",
   "language": "sos",
   "name": "sos"
  },
  "language_info": {
   "codemirror_mode": "sos",
   "file_extension": ".sos",
   "mimetype": "text/x-sos",
   "name": "sos",
   "nbconvert_exporter": "sos_notebook.converter.SoS_Exporter",
   "pygments_lexer": "sos"
  },
  "sos": {
   "kernels": [
    [
     "Octave",
     "octave",
     "octave",
     "",
     ""
    ],
    [
     "Python 3",
     "python3",
     "python3",
     "",
     ""
    ]
   ],
   "panel": {
    "displayed": true,
    "height": 0
   },
   "version": "0.22.2"
  }
 },
 "nbformat": 4,
 "nbformat_minor": 4
}
